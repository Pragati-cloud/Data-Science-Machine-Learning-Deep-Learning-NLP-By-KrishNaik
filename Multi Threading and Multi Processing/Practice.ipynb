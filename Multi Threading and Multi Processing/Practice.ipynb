{
 "cells": [
  {
   "cell_type": "code",
   "execution_count": 1,
   "id": "fa0063f9",
   "metadata": {},
   "outputs": [],
   "source": [
    "import threading\n",
    "import time"
   ]
  },
  {
   "cell_type": "code",
   "execution_count": 13,
   "id": "77f8df12",
   "metadata": {},
   "outputs": [],
   "source": [
    "def print_num():\n",
    "    for i in range(5):\n",
    "      time.sleep(2)\n",
    "      print(f\"Numbers:{i}\")\n",
    "\n",
    "##print_num()"
   ]
  },
  {
   "cell_type": "code",
   "execution_count": 15,
   "id": "fed01ca1",
   "metadata": {},
   "outputs": [],
   "source": [
    "def print_letter():\n",
    "    for letter in \"abcde\":\n",
    "      time.sleep(2)\n",
    "      print(f\"Letter: {letter}\")\n",
    "\n",
    "\n",
    "#print_letter()      "
   ]
  },
  {
   "cell_type": "code",
   "execution_count": 16,
   "id": "b4e8daea",
   "metadata": {},
   "outputs": [
    {
     "name": "stdout",
     "output_type": "stream",
     "text": [
      "Letter: a\n",
      "Numbers:0\n",
      "Numbers:1\n",
      "Letter: b\n",
      "Letter: cNumbers:2\n",
      "\n",
      "Letter: dNumbers:3\n",
      "\n",
      "Letter: e\n",
      "Numbers:4\n",
      "10.102219581604004\n"
     ]
    }
   ],
   "source": [
    "#creating 2 threads\n",
    "\n",
    "t1= threading.Thread(target=print_num)\n",
    "t2= threading.Thread(target=print_letter)\n",
    "t= time.time()\n",
    "\n",
    "#start thread\n",
    "\n",
    "t1.start()\n",
    "t2.start()\n",
    "\n",
    "#wait for thread to complete\n",
    "\n",
    "t1.join()\n",
    "t2.join()\n",
    "finished_time = time.time()-t\n",
    "print(finished_time)"
   ]
  },
  {
   "cell_type": "code",
   "execution_count": null,
   "id": "12c5de70",
   "metadata": {},
   "outputs": [
    {
     "name": "stdout",
     "output_type": "stream",
     "text": [
      "Numbers:0\n",
      "Numbers:1\n",
      "Numbers:2\n",
      "Numbers:3\n",
      "Numbers:4\n",
      "Letter: a\n",
      "Letter: b\n",
      "Letter: c\n",
      "Letter: d\n",
      "Letter: e\n",
      "10.03906774520874\n"
     ]
    }
   ],
   "source": [
    "#t= time.time()\n",
    "#print_num()\n",
    "#print_letter()\n",
    "#finished_time = time.time()-t\n",
    "#print(finished_time)"
   ]
  },
  {
   "cell_type": "code",
   "execution_count": null,
   "id": "41c674d0",
   "metadata": {},
   "outputs": [],
   "source": []
  }
 ],
 "metadata": {
  "kernelspec": {
   "display_name": ".venv",
   "language": "python",
   "name": "python3"
  },
  "language_info": {
   "codemirror_mode": {
    "name": "ipython",
    "version": 3
   },
   "file_extension": ".py",
   "mimetype": "text/x-python",
   "name": "python",
   "nbconvert_exporter": "python",
   "pygments_lexer": "ipython3",
   "version": "3.10.11"
  }
 },
 "nbformat": 4,
 "nbformat_minor": 5
}
