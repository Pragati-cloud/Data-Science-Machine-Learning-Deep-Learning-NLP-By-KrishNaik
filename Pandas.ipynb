{
 "cells": [
  {
   "cell_type": "code",
   "execution_count": 1,
   "id": "ab50429c",
   "metadata": {},
   "outputs": [
    {
     "name": "stdout",
     "output_type": "stream",
     "text": [
      "Collecting pandas\n",
      "  Downloading pandas-2.3.1-cp310-cp310-win_amd64.whl.metadata (19 kB)\n",
      "Requirement already satisfied: numpy>=1.22.4 in c:\\users\\yugen\\onedrive\\desktop\\python by krish naik\\.venv\\lib\\site-packages (from pandas) (2.2.6)\n",
      "Requirement already satisfied: python-dateutil>=2.8.2 in c:\\users\\yugen\\onedrive\\desktop\\python by krish naik\\.venv\\lib\\site-packages (from pandas) (2.9.0.post0)\n",
      "Collecting pytz>=2020.1 (from pandas)\n",
      "  Downloading pytz-2025.2-py2.py3-none-any.whl.metadata (22 kB)\n",
      "Collecting tzdata>=2022.7 (from pandas)\n",
      "  Downloading tzdata-2025.2-py2.py3-none-any.whl.metadata (1.4 kB)\n",
      "Requirement already satisfied: six>=1.5 in c:\\users\\yugen\\onedrive\\desktop\\python by krish naik\\.venv\\lib\\site-packages (from python-dateutil>=2.8.2->pandas) (1.17.0)\n",
      "Downloading pandas-2.3.1-cp310-cp310-win_amd64.whl (11.3 MB)\n",
      "   ---------------------------------------- 0.0/11.3 MB ? eta -:--:--\n",
      "   -- ------------------------------------- 0.8/11.3 MB 6.7 MB/s eta 0:00:02\n",
      "   ------ --------------------------------- 1.8/11.3 MB 5.6 MB/s eta 0:00:02\n",
      "   ---------- ----------------------------- 2.9/11.3 MB 5.4 MB/s eta 0:00:02\n",
      "   ------------- -------------------------- 3.9/11.3 MB 5.3 MB/s eta 0:00:02\n",
      "   ----------------- ---------------------- 5.0/11.3 MB 5.3 MB/s eta 0:00:02\n",
      "   --------------------- ------------------ 6.0/11.3 MB 5.3 MB/s eta 0:00:02\n",
      "   ------------------------ --------------- 7.1/11.3 MB 5.2 MB/s eta 0:00:01\n",
      "   ---------------------------- ----------- 8.1/11.3 MB 5.2 MB/s eta 0:00:01\n",
      "   -------------------------------- ------- 9.2/11.3 MB 5.1 MB/s eta 0:00:01\n",
      "   ------------------------------------ --- 10.2/11.3 MB 5.1 MB/s eta 0:00:01\n",
      "   ---------------------------------------  11.3/11.3 MB 5.1 MB/s eta 0:00:01\n",
      "   ---------------------------------------- 11.3/11.3 MB 5.0 MB/s eta 0:00:00\n",
      "Downloading pytz-2025.2-py2.py3-none-any.whl (509 kB)\n",
      "Downloading tzdata-2025.2-py2.py3-none-any.whl (347 kB)\n",
      "Installing collected packages: pytz, tzdata, pandas\n",
      "Successfully installed pandas-2.3.1 pytz-2025.2 tzdata-2025.2\n"
     ]
    },
    {
     "name": "stderr",
     "output_type": "stream",
     "text": [
      "\n",
      "[notice] A new release of pip is available: 25.0.1 -> 25.1.1\n",
      "[notice] To update, run: python.exe -m pip install --upgrade pip\n"
     ]
    }
   ],
   "source": [
    "!pip install pandas"
   ]
  },
  {
   "cell_type": "code",
   "execution_count": 1,
   "id": "11401291",
   "metadata": {},
   "outputs": [
    {
     "name": "stdout",
     "output_type": "stream",
     "text": [
      "0    2\n",
      "1    3\n",
      "2    4\n",
      "3    5\n",
      "4    3\n",
      "5    5\n",
      "dtype: int64\n"
     ]
    }
   ],
   "source": [
    "import pandas as pd\n",
    "\n",
    "#it have series and dataframe \n",
    "#Series - It is one dimensional array like object that can hold any data type. it is like coloumn in tables.\n",
    "\n",
    "data =[2,3,4,5,3,5]\n",
    "series = pd.Series(data)\n",
    "print(series)\n"
   ]
  },
  {
   "cell_type": "code",
   "execution_count": 2,
   "id": "7a020d51",
   "metadata": {},
   "outputs": [
    {
     "name": "stdout",
     "output_type": "stream",
     "text": [
      "a    1\n",
      "b    2\n",
      "c    3\n",
      "dtype: int64\n"
     ]
    }
   ],
   "source": [
    "#create series from dictionary\n",
    "\n",
    "data = {'a':1, 'b':2, 'c':3}\n",
    "series = pd.Series(data)\n",
    "print(series)"
   ]
  },
  {
   "cell_type": "code",
   "execution_count": null,
   "id": "bbb69f38",
   "metadata": {},
   "outputs": [
    {
     "name": "stdout",
     "output_type": "stream",
     "text": [
      "      Name  Age Gender\n",
      "0  Pragati   21      F\n",
      "1   Shubha   18      F\n",
      "2   Archit   12      M\n",
      "<class 'pandas.core.frame.DataFrame'>\n"
     ]
    }
   ],
   "source": [
    "#dataframes\n",
    "#creating from dictionary containing list\n",
    "\n",
    "demo = {\n",
    "  'Name':['Pragati','Shubha','Archit'],\n",
    "  'Age':[21,18,12],\n",
    "  'Gender':['F','F','M']\n",
    "}\n",
    "\n",
    "df= pd.DataFrame(demo)\n",
    "print(df)\n",
    "print(type(df))"
   ]
  },
  {
   "cell_type": "code",
   "execution_count": 10,
   "id": "95225d2c",
   "metadata": {},
   "outputs": [
    {
     "data": {
      "text/html": [
       "<div>\n",
       "<style scoped>\n",
       "    .dataframe tbody tr th:only-of-type {\n",
       "        vertical-align: middle;\n",
       "    }\n",
       "\n",
       "    .dataframe tbody tr th {\n",
       "        vertical-align: top;\n",
       "    }\n",
       "\n",
       "    .dataframe thead th {\n",
       "        text-align: right;\n",
       "    }\n",
       "</style>\n",
       "<table border=\"1\" class=\"dataframe\">\n",
       "  <thead>\n",
       "    <tr style=\"text-align: right;\">\n",
       "      <th></th>\n",
       "      <th>ID</th>\n",
       "      <th>Name</th>\n",
       "      <th>Class</th>\n",
       "      <th>Math</th>\n",
       "      <th>Science</th>\n",
       "      <th>English</th>\n",
       "    </tr>\n",
       "  </thead>\n",
       "  <tbody>\n",
       "    <tr>\n",
       "      <th>0</th>\n",
       "      <td>1</td>\n",
       "      <td>Ayesha Khan</td>\n",
       "      <td>10</td>\n",
       "      <td>89</td>\n",
       "      <td>92</td>\n",
       "      <td>85</td>\n",
       "    </tr>\n",
       "    <tr>\n",
       "      <th>1</th>\n",
       "      <td>2</td>\n",
       "      <td>Rahul Mehta</td>\n",
       "      <td>10</td>\n",
       "      <td>78</td>\n",
       "      <td>88</td>\n",
       "      <td>90</td>\n",
       "    </tr>\n",
       "    <tr>\n",
       "      <th>2</th>\n",
       "      <td>3</td>\n",
       "      <td>Simran Roy</td>\n",
       "      <td>10</td>\n",
       "      <td>95</td>\n",
       "      <td>91</td>\n",
       "      <td>87</td>\n",
       "    </tr>\n",
       "  </tbody>\n",
       "</table>\n",
       "</div>"
      ],
      "text/plain": [
       "   ID         Name  Class  Math  Science  English\n",
       "0   1  Ayesha Khan     10    89       92       85\n",
       "1   2  Rahul Mehta     10    78       88       90\n",
       "2   3   Simran Roy     10    95       91       87"
      ]
     },
     "execution_count": 10,
     "metadata": {},
     "output_type": "execute_result"
    }
   ],
   "source": [
    "csv1 =pd.read_csv('demo.csv')\n",
    "csv1.head(3)\n"
   ]
  },
  {
   "cell_type": "code",
   "execution_count": 11,
   "id": "001a34ad",
   "metadata": {},
   "outputs": [
    {
     "data": {
      "text/plain": [
       "0    10\n",
       "1    10\n",
       "2    10\n",
       "3    10\n",
       "4    10\n",
       "Name: Class, dtype: int64"
      ]
     },
     "execution_count": 11,
     "metadata": {},
     "output_type": "execute_result"
    }
   ],
   "source": [
    "csv1['Class']"
   ]
  },
  {
   "cell_type": "code",
   "execution_count": null,
   "id": "09d87dd9",
   "metadata": {},
   "outputs": [
    {
     "data": {
      "text/plain": [
       "np.int64(87)"
      ]
     },
     "execution_count": 12,
     "metadata": {},
     "output_type": "execute_result"
    }
   ],
   "source": [
    "csv1.at[2,'English']   # also use iloc , loc , iat"
   ]
  },
  {
   "cell_type": "code",
   "execution_count": 18,
   "id": "01814b82",
   "metadata": {},
   "outputs": [
    {
     "data": {
      "text/html": [
       "<div>\n",
       "<style scoped>\n",
       "    .dataframe tbody tr th:only-of-type {\n",
       "        vertical-align: middle;\n",
       "    }\n",
       "\n",
       "    .dataframe tbody tr th {\n",
       "        vertical-align: top;\n",
       "    }\n",
       "\n",
       "    .dataframe thead th {\n",
       "        text-align: right;\n",
       "    }\n",
       "</style>\n",
       "<table border=\"1\" class=\"dataframe\">\n",
       "  <thead>\n",
       "    <tr style=\"text-align: right;\">\n",
       "      <th></th>\n",
       "      <th>ID</th>\n",
       "      <th>Name</th>\n",
       "      <th>Class</th>\n",
       "      <th>Math</th>\n",
       "      <th>Science</th>\n",
       "      <th>English</th>\n",
       "      <th>Hindi</th>\n",
       "    </tr>\n",
       "  </thead>\n",
       "  <tbody>\n",
       "    <tr>\n",
       "      <th>0</th>\n",
       "      <td>1</td>\n",
       "      <td>Ayesha Khan</td>\n",
       "      <td>10</td>\n",
       "      <td>89</td>\n",
       "      <td>92</td>\n",
       "      <td>85</td>\n",
       "      <td>34</td>\n",
       "    </tr>\n",
       "    <tr>\n",
       "      <th>1</th>\n",
       "      <td>2</td>\n",
       "      <td>Rahul Mehta</td>\n",
       "      <td>10</td>\n",
       "      <td>78</td>\n",
       "      <td>88</td>\n",
       "      <td>90</td>\n",
       "      <td>27</td>\n",
       "    </tr>\n",
       "    <tr>\n",
       "      <th>2</th>\n",
       "      <td>3</td>\n",
       "      <td>Simran Roy</td>\n",
       "      <td>10</td>\n",
       "      <td>95</td>\n",
       "      <td>91</td>\n",
       "      <td>87</td>\n",
       "      <td>87</td>\n",
       "    </tr>\n",
       "    <tr>\n",
       "      <th>3</th>\n",
       "      <td>4</td>\n",
       "      <td>Rohan Das</td>\n",
       "      <td>10</td>\n",
       "      <td>80</td>\n",
       "      <td>86</td>\n",
       "      <td>84</td>\n",
       "      <td>54</td>\n",
       "    </tr>\n",
       "    <tr>\n",
       "      <th>4</th>\n",
       "      <td>5</td>\n",
       "      <td>Neha Patel</td>\n",
       "      <td>10</td>\n",
       "      <td>76</td>\n",
       "      <td>90</td>\n",
       "      <td>88</td>\n",
       "      <td>23</td>\n",
       "    </tr>\n",
       "  </tbody>\n",
       "</table>\n",
       "</div>"
      ],
      "text/plain": [
       "   ID         Name  Class  Math  Science  English  Hindi\n",
       "0   1  Ayesha Khan     10    89       92       85     34\n",
       "1   2  Rahul Mehta     10    78       88       90     27\n",
       "2   3   Simran Roy     10    95       91       87     87\n",
       "3   4    Rohan Das     10    80       86       84     54\n",
       "4   5   Neha Patel     10    76       90       88     23"
      ]
     },
     "execution_count": 18,
     "metadata": {},
     "output_type": "execute_result"
    }
   ],
   "source": [
    "#data manipulation\n",
    "#add column\n",
    "csv1['Hindi']= [34,27,87,54,23]\n",
    "csv1"
   ]
  },
  {
   "cell_type": "code",
   "execution_count": 19,
   "id": "13325279",
   "metadata": {},
   "outputs": [
    {
     "data": {
      "text/html": [
       "<div>\n",
       "<style scoped>\n",
       "    .dataframe tbody tr th:only-of-type {\n",
       "        vertical-align: middle;\n",
       "    }\n",
       "\n",
       "    .dataframe tbody tr th {\n",
       "        vertical-align: top;\n",
       "    }\n",
       "\n",
       "    .dataframe thead th {\n",
       "        text-align: right;\n",
       "    }\n",
       "</style>\n",
       "<table border=\"1\" class=\"dataframe\">\n",
       "  <thead>\n",
       "    <tr style=\"text-align: right;\">\n",
       "      <th></th>\n",
       "      <th>ID</th>\n",
       "      <th>Name</th>\n",
       "      <th>Class</th>\n",
       "      <th>Math</th>\n",
       "      <th>Science</th>\n",
       "      <th>English</th>\n",
       "    </tr>\n",
       "  </thead>\n",
       "  <tbody>\n",
       "    <tr>\n",
       "      <th>0</th>\n",
       "      <td>1</td>\n",
       "      <td>Ayesha Khan</td>\n",
       "      <td>10</td>\n",
       "      <td>89</td>\n",
       "      <td>92</td>\n",
       "      <td>85</td>\n",
       "    </tr>\n",
       "    <tr>\n",
       "      <th>1</th>\n",
       "      <td>2</td>\n",
       "      <td>Rahul Mehta</td>\n",
       "      <td>10</td>\n",
       "      <td>78</td>\n",
       "      <td>88</td>\n",
       "      <td>90</td>\n",
       "    </tr>\n",
       "    <tr>\n",
       "      <th>2</th>\n",
       "      <td>3</td>\n",
       "      <td>Simran Roy</td>\n",
       "      <td>10</td>\n",
       "      <td>95</td>\n",
       "      <td>91</td>\n",
       "      <td>87</td>\n",
       "    </tr>\n",
       "    <tr>\n",
       "      <th>3</th>\n",
       "      <td>4</td>\n",
       "      <td>Rohan Das</td>\n",
       "      <td>10</td>\n",
       "      <td>80</td>\n",
       "      <td>86</td>\n",
       "      <td>84</td>\n",
       "    </tr>\n",
       "    <tr>\n",
       "      <th>4</th>\n",
       "      <td>5</td>\n",
       "      <td>Neha Patel</td>\n",
       "      <td>10</td>\n",
       "      <td>76</td>\n",
       "      <td>90</td>\n",
       "      <td>88</td>\n",
       "    </tr>\n",
       "  </tbody>\n",
       "</table>\n",
       "</div>"
      ],
      "text/plain": [
       "   ID         Name  Class  Math  Science  English\n",
       "0   1  Ayesha Khan     10    89       92       85\n",
       "1   2  Rahul Mehta     10    78       88       90\n",
       "2   3   Simran Roy     10    95       91       87\n",
       "3   4    Rohan Das     10    80       86       84\n",
       "4   5   Neha Patel     10    76       90       88"
      ]
     },
     "execution_count": 19,
     "metadata": {},
     "output_type": "execute_result"
    }
   ],
   "source": [
    "#remove a column\n",
    "csv1.drop('Hindi', axis=1, inplace=True)\n",
    "csv1"
   ]
  },
  {
   "cell_type": "code",
   "execution_count": 21,
   "id": "3149dc2b",
   "metadata": {},
   "outputs": [
    {
     "name": "stdout",
     "output_type": "stream",
     "text": [
      "ID          int64\n",
      "Name       object\n",
      "Class       int64\n",
      "Math        int64\n",
      "Science     int64\n",
      "English     int64\n",
      "dtype: object\n",
      "             ID  Class       Math    Science    English\n",
      "count  5.000000    5.0   5.000000   5.000000   5.000000\n",
      "mean   3.000000   10.0  83.600000  89.400000  86.800000\n",
      "std    1.581139    0.0   8.080842   2.408319   2.387467\n",
      "min    1.000000   10.0  76.000000  86.000000  84.000000\n",
      "25%    2.000000   10.0  78.000000  88.000000  85.000000\n",
      "50%    3.000000   10.0  80.000000  90.000000  87.000000\n",
      "75%    4.000000   10.0  89.000000  91.000000  88.000000\n",
      "max    5.000000   10.0  95.000000  92.000000  90.000000\n"
     ]
    }
   ],
   "source": [
    "print(csv1.dtypes) #data type\n",
    "print(csv1.describe())\n"
   ]
  }
 ],
 "metadata": {
  "kernelspec": {
   "display_name": ".venv",
   "language": "python",
   "name": "python3"
  },
  "language_info": {
   "codemirror_mode": {
    "name": "ipython",
    "version": 3
   },
   "file_extension": ".py",
   "mimetype": "text/x-python",
   "name": "python",
   "nbconvert_exporter": "python",
   "pygments_lexer": "ipython3",
   "version": "3.10.11"
  }
 },
 "nbformat": 4,
 "nbformat_minor": 5
}
