{
 "cells": [
  {
   "cell_type": "code",
   "execution_count": 5,
   "id": "ab968cf8",
   "metadata": {},
   "outputs": [],
   "source": [
    "import sqlite3"
   ]
  },
  {
   "cell_type": "code",
   "execution_count": 6,
   "id": "74a191f2",
   "metadata": {},
   "outputs": [
    {
     "data": {
      "text/plain": [
       "<sqlite3.Connection at 0x1fb32407240>"
      ]
     },
     "execution_count": 6,
     "metadata": {},
     "output_type": "execute_result"
    }
   ],
   "source": [
    "#connect to an SQLite database\n",
    "connection = sqlite3.connect('example.db')\n",
    "connection\n"
   ]
  },
  {
   "cell_type": "code",
   "execution_count": 8,
   "id": "fc762dbd",
   "metadata": {},
   "outputs": [],
   "source": [
    "cursor = connection.cursor()"
   ]
  },
  {
   "cell_type": "code",
   "execution_count": null,
   "id": "e817475b",
   "metadata": {},
   "outputs": [],
   "source": [
    "##create a Table\n",
    "\n",
    "cursor.execute('''\n",
    "Create table If not exists Demo(\n",
    "    id Integer Primary Key,\n",
    "    name Text Not Null,\n",
    "    age Integer,\n",
    "    department text\n",
    "    \n",
    ")\n",
    "''')\n",
    "\n",
    " # commit the changes\n",
    "\n",
    "connection.commit()"
   ]
  },
  {
   "cell_type": "code",
   "execution_count": 10,
   "id": "f39c2a17",
   "metadata": {},
   "outputs": [
    {
     "data": {
      "text/plain": [
       "<sqlite3.Cursor at 0x1fb326c0f40>"
      ]
     },
     "execution_count": 10,
     "metadata": {},
     "output_type": "execute_result"
    }
   ],
   "source": [
    "\n",
    "cursor.execute('''\n",
    "select * from Demo\n",
    "''')"
   ]
  },
  {
   "cell_type": "code",
   "execution_count": 14,
   "id": "ef956247",
   "metadata": {},
   "outputs": [],
   "source": [
    "# Insert the data  in SQLite3 table\n",
    "\n",
    "cursor.execute('''\n",
    "Insert into demo(name, age,department)\n",
    "values(\"Pragati\",20,\"CSE\")\n",
    "''')\n",
    "\n",
    "cursor.execute('''\n",
    "Insert into demo(name, age,department)\n",
    "values(\"Archit\",12,\"AI\")\n",
    "''')\n",
    "\n",
    "cursor.execute('''\n",
    "Insert into demo(name, age,department)\n",
    "values(\"Abhi\",25,\"ml\")\n",
    "''')\n",
    "\n",
    "connection.commit()"
   ]
  },
  {
   "cell_type": "code",
   "execution_count": 15,
   "id": "795f80a9",
   "metadata": {},
   "outputs": [
    {
     "name": "stdout",
     "output_type": "stream",
     "text": [
      "(1, 'Pragati', 20, 'CSE')\n",
      "(2, 'Pragati', 20, 'CSE')\n",
      "(3, 'Archit', 12, 'AI')\n",
      "(4, 'Abhi', 25, 'ml')\n"
     ]
    }
   ],
   "source": [
    "## query the data from the table\n",
    "\n",
    "cursor.execute('Select * from Demo')\n",
    "rows = cursor.fetchall()\n",
    "\n",
    "## print the quried data \n",
    "\n",
    "for row in rows:\n",
    "  print(row)"
   ]
  },
  {
   "cell_type": "code",
   "execution_count": 17,
   "id": "751dbb4e",
   "metadata": {},
   "outputs": [],
   "source": [
    "# update the data in table\n",
    "\n",
    "cursor.execute('''\n",
    "UPDATE demo \n",
    "set name ='Shubha'\n",
    "where age =25\n",
    "''')\n",
    "\n",
    "connection.commit()"
   ]
  },
  {
   "cell_type": "code",
   "execution_count": 19,
   "id": "513f9951",
   "metadata": {},
   "outputs": [
    {
     "name": "stdout",
     "output_type": "stream",
     "text": [
      "(1, 'Pragati', 20, 'CSE')\n",
      "(2, 'Pragati', 20, 'CSE')\n",
      "(3, 'Archit', 12, 'AI')\n",
      "(4, 'Shubha', 25, 'ml')\n"
     ]
    }
   ],
   "source": [
    "\n",
    "cursor.execute('Select * from Demo')\n",
    "rows = cursor.fetchall()\n",
    "\n",
    "## print the quried data \n",
    "\n",
    "for row in rows:\n",
    "  print(row)"
   ]
  },
  {
   "cell_type": "code",
   "execution_count": 21,
   "id": "891ad500",
   "metadata": {},
   "outputs": [],
   "source": [
    "## delete the data from the table\n",
    "\n",
    "cursor.execute('''\n",
    "delete from demo where name='Shubha'\n",
    "''')\n",
    "\n",
    "connection.commit()"
   ]
  },
  {
   "cell_type": "code",
   "execution_count": 22,
   "id": "90320a27",
   "metadata": {},
   "outputs": [
    {
     "name": "stdout",
     "output_type": "stream",
     "text": [
      "(1, 'Pragati', 20, 'CSE')\n",
      "(2, 'Pragati', 20, 'CSE')\n",
      "(3, 'Archit', 12, 'AI')\n"
     ]
    }
   ],
   "source": [
    "\n",
    "cursor.execute('Select * from Demo')\n",
    "rows = cursor.fetchall()\n",
    "\n",
    "## print the quried data \n",
    "\n",
    "for row in rows:\n",
    "  print(row)"
   ]
  },
  {
   "cell_type": "code",
   "execution_count": 24,
   "id": "aa9a7193",
   "metadata": {},
   "outputs": [],
   "source": [
    "connection = sqlite3.connect('sales_data.db')\n",
    "curor = connection.cursor()\n",
    "\n",
    "## create a table for sales data\n",
    "\n",
    "cursor.execute('''\n",
    "Create table if not exists sales(\n",
    "  id Integer Primary Key,\n",
    "  date Text not null,\n",
    "  product text not null,\n",
    "  sales Integer,\n",
    "  region text\n",
    ")\n",
    "''')\n",
    "\n",
    "#insert data into the sales table\n",
    "\n",
    "sales_data =[\n",
    "  ('2025-01-02','Chair',100,'North'),\n",
    "  ('2025-01-03','Table',150,'South'),\n",
    "  ('2025-01-04','Pen',200,'East'),\n",
    "  ('2025-01-05','Pencil',180,'West'),\n",
    "  ('2025-01-06','Product1',90,'North'),\n",
    "  ('2025-01-07','Product2',300,'South')\n",
    "]\n",
    "\n",
    "cursor.executemany('''\n",
    "Insert into sales(date,product,sales, region) values(?,?,?,?)\n",
    "''',sales_data)\n",
    "\n",
    "connection.commit()"
   ]
  },
  {
   "cell_type": "code",
   "execution_count": 26,
   "id": "9fb4e1b0",
   "metadata": {},
   "outputs": [
    {
     "name": "stdout",
     "output_type": "stream",
     "text": [
      "(1, '2025-01-02', 'Chair', 100, 'North')\n",
      "(2, '2025-01-03', 'Table', 150, 'South')\n",
      "(3, '2025-01-04', 'Pen', 200, 'East')\n",
      "(4, '2025-01-05', 'Pencil', 180, 'West')\n",
      "(5, '2025-01-06', 'Product1', 90, 'North')\n",
      "(6, '2025-01-07', 'Product2', 300, 'South')\n"
     ]
    }
   ],
   "source": [
    "cursor.execute('select * from sales')\n",
    "rows = cursor.fetchall()\n",
    "\n",
    "for row in rows:\n",
    "  print(row)"
   ]
  },
  {
   "cell_type": "code",
   "execution_count": 28,
   "id": "84ee082e",
   "metadata": {},
   "outputs": [],
   "source": [
    "#close connection\n",
    "\n",
    "connection.close()"
   ]
  }
 ],
 "metadata": {
  "kernelspec": {
   "display_name": ".venv",
   "language": "python",
   "name": "python3"
  },
  "language_info": {
   "codemirror_mode": {
    "name": "ipython",
    "version": 3
   },
   "file_extension": ".py",
   "mimetype": "text/x-python",
   "name": "python",
   "nbconvert_exporter": "python",
   "pygments_lexer": "ipython3",
   "version": "3.10.11"
  }
 },
 "nbformat": 4,
 "nbformat_minor": 5
}
